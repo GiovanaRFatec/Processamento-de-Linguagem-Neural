{
  "nbformat": 4,
  "nbformat_minor": 0,
  "metadata": {
    "colab": {
      "provenance": [],
      "authorship_tag": "ABX9TyMakX66NbxP9yBvwlhMRZ/N",
      "include_colab_link": true
    },
    "kernelspec": {
      "name": "python3",
      "display_name": "Python 3"
    },
    "language_info": {
      "name": "python"
    }
  },
  "cells": [
    {
      "cell_type": "markdown",
      "metadata": {
        "id": "view-in-github",
        "colab_type": "text"
      },
      "source": [
        "<a href=\"https://colab.research.google.com/github/GiovanaRFatec/Processamento-de-Linguagem-Neural/blob/master/Sexta%20Aula.ipynb\" target=\"_parent\"><img src=\"https://colab.research.google.com/assets/colab-badge.svg\" alt=\"Open In Colab\"/></a>"
      ]
    },
    {
      "cell_type": "markdown",
      "source": [
        "# Sexta Aula - 08/11\n",
        "**Representação de texto via Embeddings**\n",
        "\n",
        "BOW ou TF-IDF\n",
        "\n",
        "Desvantagens Exemplo:\n",
        "\n",
        " a chuva molhou meus sapatos e minhas meias -> 0 0 0 1 1 1\n",
        "\n",
        " Meias sapatos minhas meus e chuva molhou a. -> 0 0 0 1 1 1\n",
        "\n",
        "- incapacidade d captura Relações entre as palavras.\n",
        "- Ausência de semântica\n",
        "- Tamanho texto"
      ],
      "metadata": {
        "id": "HxrYmUgS0ywG"
      }
    },
    {
      "cell_type": "markdown",
      "source": [
        "# Exemplo 01 - Word2Vec"
      ],
      "metadata": {
        "id": "xcPiuHQgHsEy"
      }
    },
    {
      "cell_type": "code",
      "source": [
        "# importar o modelo de vetorização da biblioteca gensin\n",
        "# modelo de vetorizaçao criado pelo google em 2013\n",
        "from gensim.models import Word2Vec\n",
        "# pequisa\n",
        "\n",
        "# texto a ser analisado\n",
        "corpus = [\n",
        "    [\"O\", \"cachorro\", \"está\", \"latindo\"],\n",
        "    [\"A\", \"gato\", \"está\", \"pelo\"]\n",
        "]\n",
        "\n",
        "# Treine o modelo Word2Vec\n",
        "model = Word2Vec(sentences=corpus, vector_size=100, window=5, min_count=1, sg=1)\n",
        "# sentences -- inidcar o exto a ser analisado.\n",
        "# vector_size -- dimensão do valor\n",
        "# window -- faixa de palavras (antes e depois) qu serão analisadas\n",
        "#sg - representa o modelo a ser ultilizado\n",
        "\n",
        "# Obtenha o vetor de uma palavra\n",
        "vector = model.wv['cachorro']\n",
        "print(vector)\n",
        "#print vector\n",
        "\n",
        "# Calcule a similaridade entre duas palavras\n",
        "similarity = model.wv.similarity('cachorro', 'gato')\n",
        "\n",
        "#imprimo o resultao\n",
        "print(\"\\nSimilaridade entre 'cachorro' e 'gato': \",similarity)\n"
      ],
      "metadata": {
        "colab": {
          "base_uri": "https://localhost:8080/"
        },
        "id": "iTYLtCDj7ACG",
        "outputId": "b455f317-9230-4e49-aa81-3899b7361c0d"
      },
      "execution_count": null,
      "outputs": [
        {
          "output_type": "stream",
          "name": "stdout",
          "text": [
            "[ 8.1681199e-03 -4.4430327e-03  8.9854337e-03  8.2536647e-03\n",
            " -4.4352221e-03  3.0310510e-04  4.2744912e-03 -3.9263200e-03\n",
            " -5.5599655e-03 -6.5123225e-03 -6.7073823e-04 -2.9592158e-04\n",
            "  4.4630850e-03 -2.4740540e-03 -1.7260908e-04  2.4618758e-03\n",
            "  4.8675989e-03 -3.0808449e-05 -6.3394094e-03 -9.2608072e-03\n",
            "  2.6657581e-05  6.6618943e-03  1.4660227e-03 -8.9665223e-03\n",
            " -7.9386048e-03  6.5519023e-03 -3.7856805e-03  6.2549924e-03\n",
            " -6.6810320e-03  8.4796622e-03 -6.5163244e-03  3.2880199e-03\n",
            " -1.0569858e-03 -6.7875278e-03 -3.2875966e-03 -1.1614120e-03\n",
            " -5.4709399e-03 -1.2113475e-03 -7.5633135e-03  2.6466595e-03\n",
            "  9.0701487e-03 -2.3772502e-03 -9.7651005e-04  3.5135616e-03\n",
            "  8.6650876e-03 -5.9218528e-03 -6.8875779e-03 -2.9329848e-03\n",
            "  9.1476962e-03  8.6626766e-04 -8.6784009e-03 -1.4469790e-03\n",
            "  9.4794659e-03 -7.5494875e-03 -5.3580985e-03  9.3165627e-03\n",
            " -8.9737261e-03  3.8259076e-03  6.6544057e-04  6.6607012e-03\n",
            "  8.3127534e-03 -2.8507852e-03 -3.9923131e-03  8.8979173e-03\n",
            "  2.0896459e-03  6.2489416e-03 -9.4457148e-03  9.5901238e-03\n",
            " -1.3483083e-03 -6.0521150e-03  2.9925345e-03 -4.5661093e-04\n",
            "  4.7064926e-03 -2.2830211e-03 -4.1378425e-03  2.2778988e-03\n",
            "  8.3543835e-03 -4.9956059e-03  2.6686788e-03 -7.9905549e-03\n",
            " -6.7733466e-03 -4.6766878e-04 -8.7677278e-03  2.7894378e-03\n",
            "  1.5985954e-03 -2.3196924e-03  5.0037908e-03  9.7487867e-03\n",
            "  8.4542679e-03 -1.8802249e-03  2.0581519e-03 -4.0036892e-03\n",
            " -8.2414057e-03  6.2779556e-03 -1.9491815e-03 -6.6620467e-04\n",
            " -1.7713320e-03 -4.5356657e-03  4.0617096e-03 -4.2701806e-03]\n",
            "\n",
            "Similaridade entre 'cachorro' e 'gato':  -0.013679754\n"
          ]
        }
      ]
    },
    {
      "cell_type": "code",
      "source": [
        "from gensim.models import Word2Vec\n",
        "\n",
        "\n",
        "corpus = [\n",
        "    [\"o\", \"cachorro\", \"está\", \"latindo\", \"no\", \"quintal\"],\n",
        "    [\"o\", \"gato\", \"está\", \"miando\", \"no\", \"telhado\"],\n",
        "    [\"o\", \"pássaro\", \"está\", \"voando\", \"no\", \"céu\"],\n",
        "    [\"a\", \"bola\", \"está\", \"rolando\", \"no\", \"chão\"],\n",
        "    [\"a\", \"criança\", \"está\", \"brincando\", \"com\", \"o\", \"cachorro\"],\n",
        "    [\"o\", \"gato\", \"e\", \"o\", \"rato\", \"são\", \"inimigos\"],\n",
        "    [\"a\", \"água\", \"está\", \"quente\", \"na\", \"caneca\"],\n",
        "    [\"o\", \"sol\", \"está\", \"brilhando\", \"no\", \"céu\"],\n",
        "    [\"a\", \"lua\", \"está\", \"cheia\", \"hoje\"],\n",
        "    [\"a\", \"computador\", \"está\", \"ligado\", \"na\", \"mesa\"]\n",
        "]\n",
        "\n",
        "##treinamento\n",
        "\n",
        "model = Word2Vec(sentences=corpus, vector_size=100, window=5, min_count=1, sg=1)\n",
        "\n",
        "#calculando a dimilaridade entre palabras\n",
        "print(f\"Similaridade entre cachorro e gato: {model.wv.similarity('cachorro', 'gato')}\")\n",
        "print(f\"Similaridade entre cachorro e gato: {model.wv.similarity('cachorro', 'bola')}\")\n",
        "print(f\"Similaridade entre céu' e lua: {model.wv.similarity('céu', 'lua')}\")\n",
        "print(f\"Similaridade entre computador e mesa: {model.wv.similarity('computador', 'mesa')}\")"
      ],
      "metadata": {
        "colab": {
          "base_uri": "https://localhost:8080/"
        },
        "id": "qSOUnRdFCciQ",
        "outputId": "91266a74-0761-4171-ed26-ce3016f6ff8f"
      },
      "execution_count": null,
      "outputs": [
        {
          "output_type": "stream",
          "name": "stdout",
          "text": [
            "Similaridade entre cachorro e gato: -0.027537165209650993\n",
            "Similaridade entre cachorro e gato: 0.08071544766426086\n",
            "Similaridade entre céu' e lua: 0.16293543577194214\n",
            "Similaridade entre computador e mesa: 0.037479717284440994\n"
          ]
        }
      ]
    },
    {
      "cell_type": "code",
      "source": [
        "#formatação da biblioteca\n",
        "from gensim.models import KeyedVectors\n",
        "\n",
        "#indicação d caminho do arquivo\n",
        "glove_path = \"glove.6B.100d.txt\"\n",
        "\n",
        "#acesso ao modelo treinado\n",
        "glove_model = KeyedVectors.load_word2vec_format(glove_path, binary=False, no_header=True)\n",
        "#glove_path - caminho do arquivo com o modelotreinado\n",
        "# binary - arquivo em texto (false)\n",
        "# no_reader - ignorar o cabeçalho\n",
        "\n",
        "#método para amjustar a singularidade de duas palavras dentro do modelo treinado\n",
        "similaridade = glove_model.similarity('king', 'queen')\n",
        "print(f\"Similaridade entre 'king' e 'queen': \",similaridade)\n",
        "\n",
        "# método de proximidade para uma determinada palavra \"KING\"\n",
        "palavras_proximas = glove_model.most_similar('king')\n",
        "\n",
        "\n",
        "print(f\"Palavras próximas a 'king': {glove_model.most_similar('king')}\")\n",
        "print(f\"Palavras próximas a 'queen': {glove_model.most_similar('queen')}\")\n"
      ],
      "metadata": {
        "colab": {
          "base_uri": "https://localhost:8080/"
        },
        "id": "Rxpr7ZNISNAa",
        "outputId": "f4704de9-3a31-47ad-e17b-6a5e2df43340"
      },
      "execution_count": null,
      "outputs": [
        {
          "output_type": "stream",
          "name": "stdout",
          "text": [
            "Similaridade entre 'king' e 'queen':  0.7507691\n",
            "Palavras próximas a 'king': [('prince', 0.7682328820228577), ('queen', 0.7507690787315369), ('son', 0.7020888328552246), ('brother', 0.6985775232315063), ('monarch', 0.6977890729904175), ('throne', 0.6919989585876465), ('kingdom', 0.6811409592628479), ('father', 0.6802029013633728), ('emperor', 0.6712858080863953), ('ii', 0.6676074266433716)]\n",
            "Palavras próximas a 'queen': [('princess', 0.7947245240211487), ('king', 0.7507690191268921), ('elizabeth', 0.7355712056159973), ('royal', 0.7065026164054871), ('lady', 0.7044796943664551), ('victoria', 0.6853758096694946), ('monarch', 0.6683257818222046), ('crown', 0.6680562496185303), ('prince', 0.6640506386756897), ('consort', 0.6570538282394409)]\n"
          ]
        }
      ]
    },
    {
      "cell_type": "markdown",
      "source": [
        "**Uma forma de realizar a representação vetoriais**\n",
        "\n",
        "- Wor2Vec - vetorizaçao com análise de proximidade naas plavras próximas ao Vocábulario escolhido.\n",
        "\n",
        "- O modelo treinado depende do tamanho das frases e das palavras em cada frase que será analisada\n",
        ".\n",
        "-Rei: Verificar as 5 palavras antes e 5 palavras depois\n",
        "\n",
        "- Rainha:  Verificar as 5 palavras antes e 5 palavras depois\n",
        "\n",
        "- Glove (Global Vector for Words Representation)-\n",
        "análise de proximidade das palavras globalmente.\n",
        "\n",
        "\n",
        "\n",
        "# Rei e Rainha\n",
        "- Rei: Reino (P(REINO)),\n",
        " O(P(O)),\n",
        "principe(P(principe)),\n",
        "reinado(P(reinado)),\n",
        "\n",
        "Território(P(territorio))\n",
        "\n",
        "-Rainha: Reinado (P(Reinado)),\n",
        " O(P(O)),\n",
        "princesa(P(princesa)),\n",
        "reinado(P(reinado)),\n",
        "\n",
        "Território(P(territorio))"
      ],
      "metadata": {
        "id": "cWdQYmtyWHn_"
      }
    },
    {
      "cell_type": "code",
      "source": [
        "from gensin.models import fastest\n",
        "from gensim.models import KeyedVectors\n",
        "\n",
        "#caminho do arquivo\n",
        "fasttext_path = \"cc.pt.300.bin\"\n",
        "\n",
        "#acesso ao modelo treinado\n",
        "fasttext_model = KeyedVectors.load_word2vec_format(fasttext_path, binary=False)\n",
        "\n",
        "similaridade = fasttext_model.similarity('rei', 'rainha')\n",
        "print(f\"Similaridade entre 'rei' e 'rainha': {similaridade:.4f}\")\n",
        "\n",
        "palavras_proximas = fasttext_model.most_similar('rei')\n",
        "print(f\"Palavras próximas a 'rei': {palavras_proximas}\")\n",
        "\n"
      ],
      "metadata": {
        "colab": {
          "base_uri": "https://localhost:8080/",
          "height": 397
        },
        "id": "959FDi_5bWAq",
        "outputId": "ed08756d-e234-4137-a4a2-ffd8e542e03c"
      },
      "execution_count": null,
      "outputs": [
        {
          "output_type": "error",
          "ename": "ModuleNotFoundError",
          "evalue": "No module named 'gensin'",
          "traceback": [
            "\u001b[0;31m---------------------------------------------------------------------------\u001b[0m",
            "\u001b[0;31mModuleNotFoundError\u001b[0m                       Traceback (most recent call last)",
            "\u001b[0;32m<ipython-input-14-647f10d56942>\u001b[0m in \u001b[0;36m<cell line: 1>\u001b[0;34m()\u001b[0m\n\u001b[0;32m----> 1\u001b[0;31m \u001b[0;32mfrom\u001b[0m \u001b[0mgensin\u001b[0m\u001b[0;34m.\u001b[0m\u001b[0mmodels\u001b[0m \u001b[0;32mimport\u001b[0m \u001b[0mfastest\u001b[0m\u001b[0;34m\u001b[0m\u001b[0;34m\u001b[0m\u001b[0m\n\u001b[0m\u001b[1;32m      2\u001b[0m \u001b[0;32mfrom\u001b[0m \u001b[0mgensim\u001b[0m\u001b[0;34m.\u001b[0m\u001b[0mmodels\u001b[0m \u001b[0;32mimport\u001b[0m \u001b[0mKeyedVectors\u001b[0m\u001b[0;34m\u001b[0m\u001b[0;34m\u001b[0m\u001b[0m\n\u001b[1;32m      3\u001b[0m \u001b[0;34m\u001b[0m\u001b[0m\n\u001b[1;32m      4\u001b[0m \u001b[0;31m#caminho do arquivo\u001b[0m\u001b[0;34m\u001b[0m\u001b[0;34m\u001b[0m\u001b[0m\n\u001b[1;32m      5\u001b[0m \u001b[0mfasttext_path\u001b[0m \u001b[0;34m=\u001b[0m \u001b[0;34m\"cc.pt.300.bin\"\u001b[0m\u001b[0;34m\u001b[0m\u001b[0;34m\u001b[0m\u001b[0m\n",
            "\u001b[0;31mModuleNotFoundError\u001b[0m: No module named 'gensin'",
            "",
            "\u001b[0;31m---------------------------------------------------------------------------\u001b[0;32m\nNOTE: If your import is failing due to a missing package, you can\nmanually install dependencies using either !pip or !apt.\n\nTo view examples of installing some common dependencies, click the\n\"Open Examples\" button below.\n\u001b[0;31m---------------------------------------------------------------------------\u001b[0m\n"
          ],
          "errorDetails": {
            "actions": [
              {
                "action": "open_url",
                "actionText": "Open Examples",
                "url": "/notebooks/snippets/importing_libraries.ipynb"
              }
            ]
          }
        }
      ]
    },
    {
      "cell_type": "markdown",
      "source": [
        "Fasttext - Faz uma quebra da palavra (n-grama)\n",
        "\n",
        "escolher uma quantidade de letras para analisar as palavras (padrão é 3 letras)\n",
        "\n",
        "- Gato - gat + ato\n",
        "\n",
        "- Gatinho - gat + atin + tin + inh + nho\n",
        "\n",
        "- Leopardo - leo + eop +...\n",
        "\n",
        "- Gatão - gat - ão"
      ],
      "metadata": {
        "id": "7tgR168hckdK"
      }
    }
  ]
}